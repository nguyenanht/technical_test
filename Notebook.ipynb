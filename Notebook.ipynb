{
 "cells": [
  {
   "cell_type": "markdown",
   "metadata": {},
   "source": [
    "# Introduction\n",
    "\n",
    "Problem of binary classification"
   ]
  },
  {
   "cell_type": "raw",
   "metadata": {},
   "source": [
    "The target is the variable ​default. The data has the following structure:\n",
    "● Observation_id: unique observation id\n",
    "● Checking_balance: Status of existing checking account. (German currency)\n",
    "● Savings_balance: Savings account/bonds (German currency)\n",
    "● Installment_rate: Installment rate in percentage of disposable income\n",
    "● Personal_status: Personal status and sex\n",
    "● Residence_history: Present residence since\n",
    "● Installment_plan: Other installment plans\n",
    "● Existing_credits: Number of existing credits at this bank\n",
    "● Dependents: Number of people being liable to provide maintenance for\n",
    "● Default: 1 is a good loan, 2 is a defaulting one.\n"
   ]
  },
  {
   "cell_type": "markdown",
   "metadata": {},
   "source": [
    "### Imports"
   ]
  },
  {
   "cell_type": "code",
   "execution_count": 249,
   "metadata": {
    "ExecuteTime": {
     "end_time": "2020-05-04T11:01:45.333784Z",
     "start_time": "2020-05-04T11:01:44.976910Z"
    }
   },
   "outputs": [],
   "source": [
    "# Data manipulation\n",
    "import pandas as pd\n",
    "import numpy as np\n",
    "\n",
    "# Options for pandas\n",
    "pd.options.display.max_columns = None\n",
    "pd.options.display.max_rows = 30\n",
    "\n",
    "# Display all cell outputs\n",
    "from IPython.core.interactiveshell import InteractiveShell\n",
    "InteractiveShell.ast_node_interactivity = 'all'\n",
    "\n",
    "from IPython import get_ipython\n",
    "ipython = get_ipython()\n",
    "\n",
    "# autoreload extension\n",
    "if 'autoreload' not in ipython.extension_manager.loaded:\n",
    "    %load_ext autoreload\n",
    "\n",
    "%autoreload 2\n",
    "\n",
    "# Visualizations\n",
    "import matplotlib.pyplot as plt\n",
    "import itertools\n"
   ]
  },
  {
   "cell_type": "markdown",
   "metadata": {},
   "source": [
    "### Reformat Excel to csv\n"
   ]
  },
  {
   "cell_type": "code",
   "execution_count": 378,
   "metadata": {
    "ExecuteTime": {
     "end_time": "2020-05-04T11:01:45.519928Z",
     "start_time": "2020-05-04T11:01:45.436796Z"
    }
   },
   "outputs": [],
   "source": [
    "import pandas as pd\n",
    "import csv\n",
    "\n",
    "\n",
    "def format_excel_to_csv(filename: str) -> pd.DataFrame:\n",
    "    \"\"\"If excel is not readable with pandas because of comma separator,\n",
    "    this function reformat and convert to a csv file.\n",
    "    \n",
    "    \"\"\"\n",
    "    \n",
    "    # Excel file to reformat\n",
    "    xl = pd.read_excel(filename, header=None)\n",
    "    xl['splitted'] = xl[0].str.split(',')\n",
    "    \n",
    "    # Nex dataframe formated\n",
    "    df = pd.DataFrame()\n",
    "    for i, elmt in enumerate(xl['splitted'][0]):\n",
    "        df[elmt] = xl[1:]['splitted'].apply(lambda x: x[i])\n",
    "        \n",
    "    df = df.reset_index(drop=True)\n",
    "    df.to_csv('src/datasets/credit.csv', index=False, encoding='utf-8', sep=',')\n",
    "    return \n",
    "\n",
    "format_excel_to_csv('src/datasets/credit.xlsx')\n"
   ]
  },
  {
   "cell_type": "code",
   "execution_count": 379,
   "metadata": {
    "ExecuteTime": {
     "end_time": "2020-05-04T11:01:45.651505Z",
     "start_time": "2020-05-04T11:01:45.628670Z"
    }
   },
   "outputs": [],
   "source": [
    "df = pd.read_csv('src/datasets/credit.csv', sep=',', encoding='utf-8')"
   ]
  },
  {
   "cell_type": "code",
   "execution_count": 380,
   "metadata": {
    "ExecuteTime": {
     "end_time": "2020-05-04T11:01:45.862670Z",
     "start_time": "2020-05-04T11:01:45.844982Z"
    }
   },
   "outputs": [
    {
     "name": "stdout",
     "output_type": "stream",
     "text": [
      "shape (1000, 21)\n"
     ]
    }
   ],
   "source": [
    "print('shape', df.shape)"
   ]
  },
  {
   "cell_type": "code",
   "execution_count": 381,
   "metadata": {
    "ExecuteTime": {
     "end_time": "2020-05-04T11:01:46.127844Z",
     "start_time": "2020-05-04T11:01:46.096033Z"
    }
   },
   "outputs": [
    {
     "data": {
      "text/html": [
       "<div>\n",
       "<style scoped>\n",
       "    .dataframe tbody tr th:only-of-type {\n",
       "        vertical-align: middle;\n",
       "    }\n",
       "\n",
       "    .dataframe tbody tr th {\n",
       "        vertical-align: top;\n",
       "    }\n",
       "\n",
       "    .dataframe thead th {\n",
       "        text-align: right;\n",
       "    }\n",
       "</style>\n",
       "<table border=\"1\" class=\"dataframe\">\n",
       "  <thead>\n",
       "    <tr style=\"text-align: right;\">\n",
       "      <th></th>\n",
       "      <th>checking_balance</th>\n",
       "      <th>months_loan_duration</th>\n",
       "      <th>credit_history</th>\n",
       "      <th>purpose</th>\n",
       "      <th>amount</th>\n",
       "      <th>savings_balance</th>\n",
       "      <th>employment_length</th>\n",
       "      <th>installment_rate</th>\n",
       "      <th>personal_status</th>\n",
       "      <th>other_debtors</th>\n",
       "      <th>residence_history</th>\n",
       "      <th>property</th>\n",
       "      <th>age</th>\n",
       "      <th>installment_plan</th>\n",
       "      <th>housing</th>\n",
       "      <th>existing_credits</th>\n",
       "      <th>default</th>\n",
       "      <th>dependents</th>\n",
       "      <th>telephone</th>\n",
       "      <th>foreign_worker</th>\n",
       "      <th>job</th>\n",
       "    </tr>\n",
       "  </thead>\n",
       "  <tbody>\n",
       "    <tr>\n",
       "      <th>0</th>\n",
       "      <td>&lt; 0 DM</td>\n",
       "      <td>6</td>\n",
       "      <td>critical</td>\n",
       "      <td>radio/tv</td>\n",
       "      <td>1169</td>\n",
       "      <td>unknown</td>\n",
       "      <td>&gt; 7 yrs</td>\n",
       "      <td>4</td>\n",
       "      <td>single male</td>\n",
       "      <td>none</td>\n",
       "      <td>4</td>\n",
       "      <td>real estate</td>\n",
       "      <td>67</td>\n",
       "      <td>none</td>\n",
       "      <td>own</td>\n",
       "      <td>2</td>\n",
       "      <td>1</td>\n",
       "      <td>1</td>\n",
       "      <td>yes</td>\n",
       "      <td>yes</td>\n",
       "      <td>skilled employee</td>\n",
       "    </tr>\n",
       "    <tr>\n",
       "      <th>1</th>\n",
       "      <td>1 - 200 DM</td>\n",
       "      <td>48</td>\n",
       "      <td>repaid</td>\n",
       "      <td>radio/tv</td>\n",
       "      <td>5951</td>\n",
       "      <td>&lt; 100 DM</td>\n",
       "      <td>1 - 4 yrs</td>\n",
       "      <td>2</td>\n",
       "      <td>female</td>\n",
       "      <td>none</td>\n",
       "      <td>2</td>\n",
       "      <td>real estate</td>\n",
       "      <td>22</td>\n",
       "      <td>none</td>\n",
       "      <td>own</td>\n",
       "      <td>1</td>\n",
       "      <td>2</td>\n",
       "      <td>1</td>\n",
       "      <td>none</td>\n",
       "      <td>yes</td>\n",
       "      <td>skilled employee</td>\n",
       "    </tr>\n",
       "    <tr>\n",
       "      <th>2</th>\n",
       "      <td>unknown</td>\n",
       "      <td>12</td>\n",
       "      <td>critical</td>\n",
       "      <td>education</td>\n",
       "      <td>2096</td>\n",
       "      <td>&lt; 100 DM</td>\n",
       "      <td>4 - 7 yrs</td>\n",
       "      <td>2</td>\n",
       "      <td>single male</td>\n",
       "      <td>none</td>\n",
       "      <td>3</td>\n",
       "      <td>real estate</td>\n",
       "      <td>49</td>\n",
       "      <td>none</td>\n",
       "      <td>own</td>\n",
       "      <td>1</td>\n",
       "      <td>1</td>\n",
       "      <td>2</td>\n",
       "      <td>none</td>\n",
       "      <td>yes</td>\n",
       "      <td>unskilled resident</td>\n",
       "    </tr>\n",
       "    <tr>\n",
       "      <th>3</th>\n",
       "      <td>&lt; 0 DM</td>\n",
       "      <td>42</td>\n",
       "      <td>repaid</td>\n",
       "      <td>furniture</td>\n",
       "      <td>7882</td>\n",
       "      <td>&lt; 100 DM</td>\n",
       "      <td>4 - 7 yrs</td>\n",
       "      <td>2</td>\n",
       "      <td>single male</td>\n",
       "      <td>guarantor</td>\n",
       "      <td>4</td>\n",
       "      <td>building society savings</td>\n",
       "      <td>45</td>\n",
       "      <td>none</td>\n",
       "      <td>for free</td>\n",
       "      <td>1</td>\n",
       "      <td>1</td>\n",
       "      <td>2</td>\n",
       "      <td>none</td>\n",
       "      <td>yes</td>\n",
       "      <td>skilled employee</td>\n",
       "    </tr>\n",
       "    <tr>\n",
       "      <th>4</th>\n",
       "      <td>&lt; 0 DM</td>\n",
       "      <td>24</td>\n",
       "      <td>delayed</td>\n",
       "      <td>car (new)</td>\n",
       "      <td>4870</td>\n",
       "      <td>&lt; 100 DM</td>\n",
       "      <td>1 - 4 yrs</td>\n",
       "      <td>3</td>\n",
       "      <td>single male</td>\n",
       "      <td>none</td>\n",
       "      <td>4</td>\n",
       "      <td>unknown/none</td>\n",
       "      <td>53</td>\n",
       "      <td>none</td>\n",
       "      <td>for free</td>\n",
       "      <td>2</td>\n",
       "      <td>2</td>\n",
       "      <td>2</td>\n",
       "      <td>none</td>\n",
       "      <td>yes</td>\n",
       "      <td>skilled employee</td>\n",
       "    </tr>\n",
       "  </tbody>\n",
       "</table>\n",
       "</div>"
      ],
      "text/plain": [
       "  checking_balance  months_loan_duration credit_history    purpose  amount  \\\n",
       "0           < 0 DM                     6       critical   radio/tv    1169   \n",
       "1       1 - 200 DM                    48         repaid   radio/tv    5951   \n",
       "2          unknown                    12       critical  education    2096   \n",
       "3           < 0 DM                    42         repaid  furniture    7882   \n",
       "4           < 0 DM                    24        delayed  car (new)    4870   \n",
       "\n",
       "  savings_balance employment_length  installment_rate personal_status  \\\n",
       "0         unknown           > 7 yrs                 4     single male   \n",
       "1        < 100 DM         1 - 4 yrs                 2          female   \n",
       "2        < 100 DM         4 - 7 yrs                 2     single male   \n",
       "3        < 100 DM         4 - 7 yrs                 2     single male   \n",
       "4        < 100 DM         1 - 4 yrs                 3     single male   \n",
       "\n",
       "  other_debtors  residence_history                  property  age  \\\n",
       "0          none                  4               real estate   67   \n",
       "1          none                  2               real estate   22   \n",
       "2          none                  3               real estate   49   \n",
       "3     guarantor                  4  building society savings   45   \n",
       "4          none                  4              unknown/none   53   \n",
       "\n",
       "  installment_plan   housing  existing_credits  default  dependents telephone  \\\n",
       "0             none       own                 2        1           1       yes   \n",
       "1             none       own                 1        2           1      none   \n",
       "2             none       own                 1        1           2      none   \n",
       "3             none  for free                 1        1           2      none   \n",
       "4             none  for free                 2        2           2      none   \n",
       "\n",
       "  foreign_worker                 job  \n",
       "0            yes    skilled employee  \n",
       "1            yes    skilled employee  \n",
       "2            yes  unskilled resident  \n",
       "3            yes    skilled employee  \n",
       "4            yes    skilled employee  "
      ]
     },
     "execution_count": 381,
     "metadata": {},
     "output_type": "execute_result"
    }
   ],
   "source": [
    "df.head()"
   ]
  },
  {
   "cell_type": "raw",
   "metadata": {},
   "source": [
    "The target is the variable ​default. The data has the following structure:\n",
    "● Observation_id: unique observation id\n",
    "● Checking_balance: Status of existing checking account. (German currency)\n",
    "● Savings_balance: Savings account/bonds (German currency)\n",
    "● Installment_rate: Installment rate in percentage of disposable income\n",
    "● Personal_status: Personal status and sex\n",
    "● Residence_history: Present residence since\n",
    "● Installment_plan: Other installment plans\n",
    "● Existing_credits: Number of existing credits at this bank\n",
    "● Dependents: Number of people being liable to provide maintenance for\n",
    "● Default: 1 is a good loan, 2 is a defaulting one."
   ]
  },
  {
   "cell_type": "markdown",
   "metadata": {
    "ExecuteTime": {
     "end_time": "2020-05-04T10:25:15.001768Z",
     "start_time": "2020-05-04T10:25:14.975045Z"
    }
   },
   "source": [
    "# Constant"
   ]
  },
  {
   "cell_type": "code",
   "execution_count": 404,
   "metadata": {
    "ExecuteTime": {
     "end_time": "2020-05-04T11:01:47.337871Z",
     "start_time": "2020-05-04T11:01:47.320996Z"
    }
   },
   "outputs": [],
   "source": [
    "FEATURES = [\n",
    "    \"checking_balance\",\n",
    "    \"months_loan_duration\",\n",
    "    \"credit_history\",\n",
    "    \"purpose\",\n",
    "    \"amount\",\n",
    "    \"savings_balance\",\n",
    "    \"employment_length\",\n",
    "    \"installment_rate\",\n",
    "    \"personal_status\",\n",
    "    \"other_debtors\",\n",
    "    \"residence_history\",\n",
    "    \"property\",\n",
    "    \"age\",\n",
    "    \"installment_plan\",\n",
    "    \"housing\",\n",
    "    \"existing_credits\",\n",
    "    \"dependents\",\n",
    "    \"telephone\",\n",
    "    \"foreign_worker\",\n",
    "    \"job\",   \n",
    "]\n",
    "\n",
    "TARGET = ['default']"
   ]
  },
  {
   "cell_type": "code",
   "execution_count": 417,
   "metadata": {},
   "outputs": [
    {
     "data": {
      "text/plain": [
       "0        radio/tv\n",
       "1        radio/tv\n",
       "2       education\n",
       "3       furniture\n",
       "4       car (new)\n",
       "          ...    \n",
       "995     furniture\n",
       "996    car (used)\n",
       "997      radio/tv\n",
       "998      radio/tv\n",
       "999    car (used)\n",
       "Name: purpose, Length: 1000, dtype: object"
      ]
     },
     "execution_count": 417,
     "metadata": {},
     "output_type": "execute_result"
    }
   ],
   "source": [
    "df.purpose"
   ]
  },
  {
   "cell_type": "code",
   "execution_count": 405,
   "metadata": {
    "ExecuteTime": {
     "end_time": "2020-05-04T11:01:47.641408Z",
     "start_time": "2020-05-04T11:01:47.622990Z"
    }
   },
   "outputs": [
    {
     "data": {
      "text/plain": [
       "1    700\n",
       "2    300\n",
       "Name: default, dtype: int64"
      ]
     },
     "execution_count": 405,
     "metadata": {},
     "output_type": "execute_result"
    }
   ],
   "source": [
    "df['default'].value_counts()"
   ]
  },
  {
   "cell_type": "markdown",
   "metadata": {
    "ExecuteTime": {
     "end_time": "2020-05-04T10:31:13.795863Z",
     "start_time": "2020-05-04T10:31:13.779616Z"
    }
   },
   "source": [
    "# Split df to X and y"
   ]
  },
  {
   "cell_type": "code",
   "execution_count": 406,
   "metadata": {
    "ExecuteTime": {
     "end_time": "2020-05-04T11:01:48.326193Z",
     "start_time": "2020-05-04T11:01:48.308931Z"
    }
   },
   "outputs": [],
   "source": [
    "X = df[FEATURES]\n",
    "y = df[TARGET]"
   ]
  },
  {
   "cell_type": "code",
   "execution_count": 407,
   "metadata": {
    "ExecuteTime": {
     "end_time": "2020-05-04T11:01:48.601686Z",
     "start_time": "2020-05-04T11:01:48.587130Z"
    }
   },
   "outputs": [
    {
     "name": "stdout",
     "output_type": "stream",
     "text": [
      "df shape :  (1000, 21)\n",
      "X shape :  (1000, 20)\n",
      "y shape :  (1000, 1)\n"
     ]
    }
   ],
   "source": [
    "print('df shape : ', df.shape)\n",
    "print('X shape : ', X.shape)\n",
    "print('y shape : ', y.shape)"
   ]
  },
  {
   "cell_type": "code",
   "execution_count": 410,
   "metadata": {},
   "outputs": [
    {
     "data": {
      "text/plain": [
       "0      1\n",
       "1      2\n",
       "2      1\n",
       "3      1\n",
       "4      2\n",
       "      ..\n",
       "995    1\n",
       "996    1\n",
       "997    1\n",
       "998    2\n",
       "999    1\n",
       "Length: 1000, dtype: int64"
      ]
     },
     "execution_count": 410,
     "metadata": {},
     "output_type": "execute_result"
    }
   ],
   "source": [
    "pd.Series(y[TARGET].values.ravel())"
   ]
  },
  {
   "cell_type": "markdown",
   "metadata": {},
   "source": [
    "### Prpeprocessing"
   ]
  },
  {
   "cell_type": "markdown",
   "metadata": {},
   "source": [
    "#### Categrorical variables"
   ]
  },
  {
   "cell_type": "code",
   "execution_count": 185,
   "metadata": {
    "ExecuteTime": {
     "end_time": "2020-05-04T11:01:48.895111Z",
     "start_time": "2020-05-04T11:01:48.877281Z"
    }
   },
   "outputs": [
    {
     "name": "stdout",
     "output_type": "stream",
     "text": [
      "['checking_balance', 'credit_history', 'purpose', 'savings_balance', 'employment_length', 'personal_status', 'other_debtors', 'property', 'installment_plan', 'housing', 'telephone', 'foreign_worker', 'job']\n"
     ]
    }
   ],
   "source": [
    "# OBJECT FEATURES\n",
    "obj_list_to_one_hot_encode =  list(X.select_dtypes(include=['object']).columns)\n",
    "print(obj_list_to_one_hot_encode)"
   ]
  },
  {
   "cell_type": "code",
   "execution_count": 186,
   "metadata": {},
   "outputs": [
    {
     "name": "stderr",
     "output_type": "stream",
     "text": [
      "/Users/anhnguyen/Desktop/test technique fairmoney/flask/lib/python3.7/site-packages/ipykernel_launcher.py:2: SettingWithCopyWarning: \n",
      "A value is trying to be set on a copy of a slice from a DataFrame.\n",
      "Try using .loc[row_indexer,col_indexer] = value instead\n",
      "\n",
      "See the caveats in the documentation: https://pandas.pydata.org/pandas-docs/stable/user_guide/indexing.html#returning-a-view-versus-a-copy\n",
      "  \n"
     ]
    }
   ],
   "source": [
    "for col in obj_list_to_one_hot_encode:\n",
    "    X[col] = X[col].astype('category')"
   ]
  },
  {
   "cell_type": "markdown",
   "metadata": {},
   "source": [
    "#### Numerical variables"
   ]
  },
  {
   "cell_type": "code",
   "execution_count": 140,
   "metadata": {
    "ExecuteTime": {
     "end_time": "2020-05-04T11:01:49.188013Z",
     "start_time": "2020-05-04T11:01:49.169532Z"
    }
   },
   "outputs": [
    {
     "name": "stdout",
     "output_type": "stream",
     "text": [
      "Index(['checking_balance', 'months_loan_duration', 'credit_history', 'purpose',\n",
      "       'amount', 'savings_balance', 'employment_length', 'installment_rate',\n",
      "       'personal_status', 'other_debtors', 'residence_history', 'property',\n",
      "       'age', 'installment_plan', 'housing', 'existing_credits', 'dependents',\n",
      "       'telephone', 'foreign_worker', 'job'],\n",
      "      dtype='object')\n"
     ]
    }
   ],
   "source": [
    "# Numerical FEATURES\n",
    "numerical_features = X.select_dtypes(exclude=['object']).columns\n",
    "print(numerical_features)"
   ]
  },
  {
   "cell_type": "markdown",
   "metadata": {},
   "source": [
    "#### remap target"
   ]
  },
  {
   "cell_type": "code",
   "execution_count": 187,
   "metadata": {},
   "outputs": [],
   "source": [
    "di = {1: 0, 2: 1}  # remap 1 -> 0 (good loan), 2 -> 1 (defaulting)\n",
    "y = y.map(di)"
   ]
  },
  {
   "cell_type": "code",
   "execution_count": 188,
   "metadata": {},
   "outputs": [
    {
     "data": {
      "text/plain": [
       "0    700\n",
       "1    300\n",
       "Name: default, dtype: int64"
      ]
     },
     "execution_count": 188,
     "metadata": {},
     "output_type": "execute_result"
    }
   ],
   "source": [
    "y.value_counts()"
   ]
  },
  {
   "cell_type": "markdown",
   "metadata": {
    "ExecuteTime": {
     "end_time": "2020-05-04T11:00:04.465763Z",
     "start_time": "2020-05-04T11:00:04.445612Z"
    }
   },
   "source": [
    "# Model"
   ]
  },
  {
   "cell_type": "code",
   "execution_count": 342,
   "metadata": {},
   "outputs": [],
   "source": [
    "from sklearn.model_selection import train_test_split\n",
    "from src.visualisation.cust_plot import plot_confusion_matrix\n",
    "from src.metrics.cust_metric import find_optimal_cutoff, get_auc_score, get_accuracy_score"
   ]
  },
  {
   "cell_type": "code",
   "execution_count": 243,
   "metadata": {},
   "outputs": [],
   "source": [
    "X_train, X_test, y_train, y_test  = train_test_split(X, y, test_size=0.2, random_state=123, stratify=y)"
   ]
  },
  {
   "cell_type": "code",
   "execution_count": 244,
   "metadata": {},
   "outputs": [
    {
     "data": {
      "text/plain": [
       "(800, 20)"
      ]
     },
     "execution_count": 244,
     "metadata": {},
     "output_type": "execute_result"
    },
    {
     "data": {
      "text/plain": [
       "(200, 20)"
      ]
     },
     "execution_count": 244,
     "metadata": {},
     "output_type": "execute_result"
    }
   ],
   "source": [
    "X_train.shape\n",
    "X_test.shape"
   ]
  },
  {
   "cell_type": "code",
   "execution_count": 252,
   "metadata": {},
   "outputs": [
    {
     "data": {
      "text/plain": [
       "0    70.0\n",
       "1    30.0\n",
       "Name: default, dtype: float64"
      ]
     },
     "execution_count": 252,
     "metadata": {},
     "output_type": "execute_result"
    }
   ],
   "source": [
    "y_train.value_counts()/len(y_train)*100"
   ]
  },
  {
   "cell_type": "code",
   "execution_count": 253,
   "metadata": {},
   "outputs": [
    {
     "data": {
      "text/plain": [
       "0    70.0\n",
       "1    30.0\n",
       "Name: default, dtype: float64"
      ]
     },
     "execution_count": 253,
     "metadata": {},
     "output_type": "execute_result"
    }
   ],
   "source": [
    "y_test.value_counts()/len(y_test)*100"
   ]
  },
  {
   "cell_type": "markdown",
   "metadata": {},
   "source": [
    "# Lightgbm"
   ]
  },
  {
   "cell_type": "code",
   "execution_count": 245,
   "metadata": {
    "ExecuteTime": {
     "end_time": "2020-05-04T11:02:37.432598Z",
     "start_time": "2020-05-04T11:02:37.412691Z"
    }
   },
   "outputs": [],
   "source": [
    "import lightgbm as lgb"
   ]
  },
  {
   "cell_type": "code",
   "execution_count": 305,
   "metadata": {},
   "outputs": [],
   "source": [
    "train_data = lgb.Dataset(data=X_train, label=y_train, weight=10**y_train)\n",
    "test_data = lgb.Dataset(data=X_test, label=y_test)"
   ]
  },
  {
   "cell_type": "code",
   "execution_count": 306,
   "metadata": {},
   "outputs": [
    {
     "name": "stdout",
     "output_type": "stream",
     "text": [
      "Training until validation scores don't improve for 150 rounds\n",
      "[10]\tvalid_0's auc: 0.743452\n",
      "[20]\tvalid_0's auc: 0.741012\n",
      "[30]\tvalid_0's auc: 0.746131\n",
      "[40]\tvalid_0's auc: 0.746131\n",
      "[50]\tvalid_0's auc: 0.757798\n",
      "[60]\tvalid_0's auc: 0.760536\n",
      "[70]\tvalid_0's auc: 0.763036\n",
      "[80]\tvalid_0's auc: 0.766845\n",
      "[90]\tvalid_0's auc: 0.765595\n",
      "[100]\tvalid_0's auc: 0.769286\n",
      "[110]\tvalid_0's auc: 0.773631\n",
      "[120]\tvalid_0's auc: 0.77494\n",
      "[130]\tvalid_0's auc: 0.773155\n",
      "[140]\tvalid_0's auc: 0.768512\n",
      "[150]\tvalid_0's auc: 0.767083\n",
      "[160]\tvalid_0's auc: 0.766369\n",
      "[170]\tvalid_0's auc: 0.765536\n",
      "[180]\tvalid_0's auc: 0.764226\n",
      "[190]\tvalid_0's auc: 0.763869\n",
      "[200]\tvalid_0's auc: 0.770952\n",
      "[210]\tvalid_0's auc: 0.772738\n",
      "[220]\tvalid_0's auc: 0.772917\n",
      "[230]\tvalid_0's auc: 0.77256\n",
      "[240]\tvalid_0's auc: 0.771964\n",
      "[250]\tvalid_0's auc: 0.77256\n",
      "[260]\tvalid_0's auc: 0.771369\n",
      "Early stopping, best iteration is:\n",
      "[119]\tvalid_0's auc: 0.77494\n"
     ]
    }
   ],
   "source": [
    "params = {\n",
    "'application': 'binary',\n",
    "'objective': 'binary',\n",
    "'metric': 'auc',\n",
    "'is_unbalance': 'true',\n",
    "'boosting': 'gbdt',\n",
    "'num_leaves': 8,\n",
    "'feature_fraction': 0.8,\n",
    "'bagging_fraction': 0.8,\n",
    "'bagging_freq': 20,\n",
    "'is_unbalance': 'true',\n",
    "'learning_rate': 0.001,\n",
    "'verbose': 0,\n",
    "    'max_depth': 5\n",
    "}\n",
    "    \n",
    "\n",
    "# lgbm = lgb.train(param, ltr, num_boost_round=1000, valid_sets=[(ltr)], verbose_eval=100)\n",
    "\n",
    "\n",
    "lgbm = lgb.train(\n",
    "                params,\n",
    "                train_data,\n",
    "                valid_sets=test_data,\n",
    "                num_boost_round=1500,\n",
    "                verbose_eval=10,\n",
    "                early_stopping_rounds=150,\n",
    "                )"
   ]
  },
  {
   "cell_type": "markdown",
   "metadata": {},
   "source": [
    "# XGBOOST"
   ]
  },
  {
   "cell_type": "code",
   "execution_count": null,
   "metadata": {},
   "outputs": [],
   "source": []
  },
  {
   "cell_type": "code",
   "execution_count": null,
   "metadata": {},
   "outputs": [],
   "source": []
  },
  {
   "cell_type": "code",
   "execution_count": null,
   "metadata": {},
   "outputs": [],
   "source": []
  },
  {
   "cell_type": "code",
   "execution_count": null,
   "metadata": {},
   "outputs": [],
   "source": []
  },
  {
   "cell_type": "code",
   "execution_count": null,
   "metadata": {},
   "outputs": [],
   "source": []
  },
  {
   "cell_type": "markdown",
   "metadata": {},
   "source": [
    "# Results for Lightgbm\n",
    "Show graphs and stats here"
   ]
  },
  {
   "cell_type": "code",
   "execution_count": 307,
   "metadata": {},
   "outputs": [
    {
     "name": "stdout",
     "output_type": "stream",
     "text": [
      "roc auc lightgbm :  0.7749404761904762\n"
     ]
    }
   ],
   "source": [
    "pred = lgbm.predict(X_test)\n",
    "print('roc auc lightgbm : ', get_auc_score(y_test, pred))\n"
   ]
  },
  {
   "cell_type": "code",
   "execution_count": 308,
   "metadata": {},
   "outputs": [
    {
     "name": "stdout",
     "output_type": "stream",
     "text": [
      " \n"
     ]
    },
    {
     "data": {
      "image/png": "[encoded data removed]",
      "text/plain": [
       "<Figure size 432x288 with 2 Axes>"
      ]
     },
     "metadata": {
      "needs_background": "light"
     },
     "output_type": "display_data"
    }
   ],
   "source": [
    "\n",
    "threshold = find_optimal_cutoff(y_test, pred)\n",
    "pred_opt = (pred > threshold).astype(int) # Find prediction to the dataframe applying threshold\n",
    "\n",
    "plot_confusion_matrix(y_test, pred_opt, classes=['good loan', 'defaulting'])"
   ]
  },
  {
   "cell_type": "code",
   "execution_count": null,
   "metadata": {},
   "outputs": [],
   "source": []
  },
  {
   "cell_type": "markdown",
   "metadata": {},
   "source": [
    "# optim bayesienne with lightgbm"
   ]
  },
  {
   "cell_type": "code",
   "execution_count": 346,
   "metadata": {},
   "outputs": [
    {
     "name": "stdout",
     "output_type": "stream",
     "text": [
      "|   iter    |  target   | baggin... | baggin... | featur... | max_depth | num_le... |\n",
      "-------------------------------------------------------------------------------------\n",
      "| \u001b[0m 1       \u001b[0m | \u001b[0m 0.7539  \u001b[0m | \u001b[0m 0.6106  \u001b[0m | \u001b[0m 5.44    \u001b[0m | \u001b[0m 0.8185  \u001b[0m | \u001b[0m 3.336   \u001b[0m | \u001b[0m 5.374   \u001b[0m |\n",
      "| \u001b[0m 2       \u001b[0m | \u001b[0m 0.7431  \u001b[0m | \u001b[0m 0.7836  \u001b[0m | \u001b[0m 6.852   \u001b[0m | \u001b[0m 0.9558  \u001b[0m | \u001b[0m 5.712   \u001b[0m | \u001b[0m 6.407   \u001b[0m |\n",
      "| \u001b[0m 3       \u001b[0m | \u001b[0m 0.753   \u001b[0m | \u001b[0m 0.6605  \u001b[0m | \u001b[0m 6.5     \u001b[0m | \u001b[0m 0.7404  \u001b[0m | \u001b[0m 2.981   \u001b[0m | \u001b[0m 2.522   \u001b[0m |\n",
      "| \u001b[0m 4       \u001b[0m | \u001b[0m 0.7529  \u001b[0m | \u001b[0m 0.9127  \u001b[0m | \u001b[0m 9.137   \u001b[0m | \u001b[0m 0.6015  \u001b[0m | \u001b[0m 3.595   \u001b[0m | \u001b[0m 2.29    \u001b[0m |\n",
      "| \u001b[0m 5       \u001b[0m | \u001b[0m 0.7473  \u001b[0m | \u001b[0m 0.7865  \u001b[0m | \u001b[0m 9.169   \u001b[0m | \u001b[0m 0.792   \u001b[0m | \u001b[0m 6.374   \u001b[0m | \u001b[0m 5.556   \u001b[0m |\n",
      "| \u001b[0m 6       \u001b[0m | \u001b[0m 0.7531  \u001b[0m | \u001b[0m 0.8744  \u001b[0m | \u001b[0m 8.893   \u001b[0m | \u001b[0m 0.6626  \u001b[0m | \u001b[0m 5.279   \u001b[0m | \u001b[0m 2.743   \u001b[0m |\n",
      "| \u001b[95m 7       \u001b[0m | \u001b[95m 0.7586  \u001b[0m | \u001b[95m 0.9311  \u001b[0m | \u001b[95m 6.792   \u001b[0m | \u001b[95m 0.9123  \u001b[0m | \u001b[95m 4.709   \u001b[0m | \u001b[95m 8.173   \u001b[0m |\n",
      "| \u001b[0m 8       \u001b[0m | \u001b[0m 0.6846  \u001b[0m | \u001b[0m 0.8649  \u001b[0m | \u001b[0m 6.953   \u001b[0m | \u001b[0m 0.9989  \u001b[0m | \u001b[0m 6.391   \u001b[0m | \u001b[0m 3.627   \u001b[0m |\n",
      "| \u001b[0m 9       \u001b[0m | \u001b[0m 0.7477  \u001b[0m | \u001b[0m 0.8433  \u001b[0m | \u001b[0m 5.258   \u001b[0m | \u001b[0m 0.8634  \u001b[0m | \u001b[0m 6.306   \u001b[0m | \u001b[0m 5.808   \u001b[0m |\n",
      "| \u001b[0m 10      \u001b[0m | \u001b[0m 0.7497  \u001b[0m | \u001b[0m 0.6684  \u001b[0m | \u001b[0m 7.787   \u001b[0m | \u001b[0m 0.8992  \u001b[0m | \u001b[0m 2.316   \u001b[0m | \u001b[0m 6.942   \u001b[0m |\n",
      "| \u001b[95m 11      \u001b[0m | \u001b[95m 0.7709  \u001b[0m | \u001b[95m 0.6     \u001b[0m | \u001b[95m 5.0     \u001b[0m | \u001b[95m 0.6     \u001b[0m | \u001b[95m 8.0     \u001b[0m | \u001b[95m 10.0    \u001b[0m |\n",
      "| \u001b[0m 12      \u001b[0m | \u001b[0m 0.7668  \u001b[0m | \u001b[0m 0.6     \u001b[0m | \u001b[0m 10.0    \u001b[0m | \u001b[0m 0.6     \u001b[0m | \u001b[0m 3.324   \u001b[0m | \u001b[0m 10.0    \u001b[0m |\n",
      "| \u001b[95m 13      \u001b[0m | \u001b[95m 0.7724  \u001b[0m | \u001b[95m 0.6     \u001b[0m | \u001b[95m 5.0     \u001b[0m | \u001b[95m 0.6     \u001b[0m | \u001b[95m 5.584   \u001b[0m | \u001b[95m 8.214   \u001b[0m |\n",
      "| \u001b[0m 14      \u001b[0m | \u001b[0m 0.7586  \u001b[0m | \u001b[0m 1.0     \u001b[0m | \u001b[0m 10.0    \u001b[0m | \u001b[0m 0.6     \u001b[0m | \u001b[0m 4.254   \u001b[0m | \u001b[0m 7.238   \u001b[0m |\n",
      "| \u001b[0m 15      \u001b[0m | \u001b[0m 0.7658  \u001b[0m | \u001b[0m 1.0     \u001b[0m | \u001b[0m 10.0    \u001b[0m | \u001b[0m 0.6     \u001b[0m | \u001b[0m 8.0     \u001b[0m | \u001b[0m 10.0    \u001b[0m |\n",
      "| \u001b[0m 16      \u001b[0m | \u001b[0m 0.7508  \u001b[0m | \u001b[0m 1.0     \u001b[0m | \u001b[0m 5.0     \u001b[0m | \u001b[0m 0.6     \u001b[0m | \u001b[0m 2.0     \u001b[0m | \u001b[0m 2.0     \u001b[0m |\n",
      "| \u001b[0m 17      \u001b[0m | \u001b[0m 0.7518  \u001b[0m | \u001b[0m 0.6     \u001b[0m | \u001b[0m 10.0    \u001b[0m | \u001b[0m 0.6     \u001b[0m | \u001b[0m 7.489   \u001b[0m | \u001b[0m 2.0     \u001b[0m |\n",
      "| \u001b[0m 18      \u001b[0m | \u001b[0m 0.7494  \u001b[0m | \u001b[0m 1.0     \u001b[0m | \u001b[0m 5.0     \u001b[0m | \u001b[0m 0.6     \u001b[0m | \u001b[0m 2.0     \u001b[0m | \u001b[0m 10.0    \u001b[0m |\n",
      "| \u001b[0m 19      \u001b[0m | \u001b[0m 0.7557  \u001b[0m | \u001b[0m 0.9041  \u001b[0m | \u001b[0m 5.053   \u001b[0m | \u001b[0m 0.6237  \u001b[0m | \u001b[0m 7.858   \u001b[0m | \u001b[0m 8.866   \u001b[0m |\n",
      "| \u001b[0m 20      \u001b[0m | \u001b[0m 0.7658  \u001b[0m | \u001b[0m 0.6836  \u001b[0m | \u001b[0m 7.371   \u001b[0m | \u001b[0m 0.6128  \u001b[0m | \u001b[0m 4.768   \u001b[0m | \u001b[0m 9.976   \u001b[0m |\n",
      "| \u001b[0m 21      \u001b[0m | \u001b[0m 0.7607  \u001b[0m | \u001b[0m 0.6344  \u001b[0m | \u001b[0m 9.932   \u001b[0m | \u001b[0m 0.6562  \u001b[0m | \u001b[0m 4.897   \u001b[0m | \u001b[0m 2.187   \u001b[0m |\n",
      "| \u001b[0m 22      \u001b[0m | \u001b[0m 0.7563  \u001b[0m | \u001b[0m 0.7537  \u001b[0m | \u001b[0m 5.05    \u001b[0m | \u001b[0m 0.9546  \u001b[0m | \u001b[0m 5.174   \u001b[0m | \u001b[0m 9.969   \u001b[0m |\n",
      "| \u001b[0m 23      \u001b[0m | \u001b[0m 0.7545  \u001b[0m | \u001b[0m 0.761   \u001b[0m | \u001b[0m 8.275   \u001b[0m | \u001b[0m 0.6054  \u001b[0m | \u001b[0m 2.214   \u001b[0m | \u001b[0m 9.94    \u001b[0m |\n",
      "| \u001b[0m 24      \u001b[0m | \u001b[0m 0.7665  \u001b[0m | \u001b[0m 0.6083  \u001b[0m | \u001b[0m 9.917   \u001b[0m | \u001b[0m 0.6797  \u001b[0m | \u001b[0m 6.285   \u001b[0m | \u001b[0m 8.954   \u001b[0m |\n",
      "| \u001b[0m 25      \u001b[0m | \u001b[0m 0.7576  \u001b[0m | \u001b[0m 0.9756  \u001b[0m | \u001b[0m 5.017   \u001b[0m | \u001b[0m 0.6396  \u001b[0m | \u001b[0m 5.455   \u001b[0m | \u001b[0m 7.031   \u001b[0m |\n",
      "| \u001b[0m 26      \u001b[0m | \u001b[0m 0.7633  \u001b[0m | \u001b[0m 0.6125  \u001b[0m | \u001b[0m 7.503   \u001b[0m | \u001b[0m 0.6307  \u001b[0m | \u001b[0m 7.859   \u001b[0m | \u001b[0m 9.944   \u001b[0m |\n",
      "| \u001b[0m 27      \u001b[0m | \u001b[0m 0.7592  \u001b[0m | \u001b[0m 0.6143  \u001b[0m | \u001b[0m 9.912   \u001b[0m | \u001b[0m 0.6228  \u001b[0m | \u001b[0m 5.564   \u001b[0m | \u001b[0m 3.844   \u001b[0m |\n",
      "| \u001b[0m 28      \u001b[0m | \u001b[0m 0.7683  \u001b[0m | \u001b[0m 0.6055  \u001b[0m | \u001b[0m 8.208   \u001b[0m | \u001b[0m 0.6005  \u001b[0m | \u001b[0m 4.506   \u001b[0m | \u001b[0m 8.521   \u001b[0m |\n",
      "| \u001b[0m 29      \u001b[0m | \u001b[0m 0.75    \u001b[0m | \u001b[0m 0.6378  \u001b[0m | \u001b[0m 9.631   \u001b[0m | \u001b[0m 0.9867  \u001b[0m | \u001b[0m 4.635   \u001b[0m | \u001b[0m 10.0    \u001b[0m |\n",
      "| \u001b[0m 30      \u001b[0m | \u001b[0m 0.7596  \u001b[0m | \u001b[0m 0.6153  \u001b[0m | \u001b[0m 9.767   \u001b[0m | \u001b[0m 0.6652  \u001b[0m | \u001b[0m 7.703   \u001b[0m | \u001b[0m 7.663   \u001b[0m |\n",
      "| \u001b[0m 31      \u001b[0m | \u001b[0m 0.7698  \u001b[0m | \u001b[0m 0.6008  \u001b[0m | \u001b[0m 5.694   \u001b[0m | \u001b[0m 0.6511  \u001b[0m | \u001b[0m 3.449   \u001b[0m | \u001b[0m 8.569   \u001b[0m |\n",
      "| \u001b[0m 32      \u001b[0m | \u001b[0m 0.7583  \u001b[0m | \u001b[0m 0.606   \u001b[0m | \u001b[0m 7.121   \u001b[0m | \u001b[0m 0.6199  \u001b[0m | \u001b[0m 5.651   \u001b[0m | \u001b[0m 8.1     \u001b[0m |\n",
      "| \u001b[0m 33      \u001b[0m | \u001b[0m 0.7597  \u001b[0m | \u001b[0m 0.6071  \u001b[0m | \u001b[0m 5.028   \u001b[0m | \u001b[0m 0.9602  \u001b[0m | \u001b[0m 4.936   \u001b[0m | \u001b[0m 7.254   \u001b[0m |\n",
      "| \u001b[0m 34      \u001b[0m | \u001b[0m 0.7621  \u001b[0m | \u001b[0m 0.6843  \u001b[0m | \u001b[0m 6.819   \u001b[0m | \u001b[0m 0.6063  \u001b[0m | \u001b[0m 3.77    \u001b[0m | \u001b[0m 7.946   \u001b[0m |\n",
      "| \u001b[0m 35      \u001b[0m | \u001b[0m 0.7541  \u001b[0m | \u001b[0m 0.7121  \u001b[0m | \u001b[0m 5.028   \u001b[0m | \u001b[0m 0.6301  \u001b[0m | \u001b[0m 2.006   \u001b[0m | \u001b[0m 7.169   \u001b[0m |\n",
      "| \u001b[0m 36      \u001b[0m | \u001b[0m 0.7686  \u001b[0m | \u001b[0m 0.6455  \u001b[0m | \u001b[0m 5.003   \u001b[0m | \u001b[0m 0.6312  \u001b[0m | \u001b[0m 4.232   \u001b[0m | \u001b[0m 9.289   \u001b[0m |\n",
      "| \u001b[0m 37      \u001b[0m | \u001b[0m 0.743   \u001b[0m | \u001b[0m 0.9728  \u001b[0m | \u001b[0m 9.892   \u001b[0m | \u001b[0m 0.6994  \u001b[0m | \u001b[0m 5.656   \u001b[0m | \u001b[0m 2.031   \u001b[0m |\n",
      "| \u001b[0m 38      \u001b[0m | \u001b[0m 0.7528  \u001b[0m | \u001b[0m 0.6383  \u001b[0m | \u001b[0m 5.254   \u001b[0m | \u001b[0m 0.645   \u001b[0m | \u001b[0m 2.08    \u001b[0m | \u001b[0m 3.25    \u001b[0m |\n",
      "| \u001b[0m 39      \u001b[0m | \u001b[0m 0.768   \u001b[0m | \u001b[0m 0.6216  \u001b[0m | \u001b[0m 9.721   \u001b[0m | \u001b[0m 0.6307  \u001b[0m | \u001b[0m 7.998   \u001b[0m | \u001b[0m 9.94    \u001b[0m |\n",
      "| \u001b[0m 40      \u001b[0m | \u001b[0m 0.7531  \u001b[0m | \u001b[0m 0.9676  \u001b[0m | \u001b[0m 9.942   \u001b[0m | \u001b[0m 0.622   \u001b[0m | \u001b[0m 2.546   \u001b[0m | \u001b[0m 9.376   \u001b[0m |\n",
      "| \u001b[0m 41      \u001b[0m | \u001b[0m 0.7613  \u001b[0m | \u001b[0m 0.613   \u001b[0m | \u001b[0m 8.383   \u001b[0m | \u001b[0m 0.6072  \u001b[0m | \u001b[0m 4.242   \u001b[0m | \u001b[0m 2.215   \u001b[0m |\n",
      "| \u001b[0m 42      \u001b[0m | \u001b[0m 0.762   \u001b[0m | \u001b[0m 0.6122  \u001b[0m | \u001b[0m 6.594   \u001b[0m | \u001b[0m 0.6295  \u001b[0m | \u001b[0m 3.854   \u001b[0m | \u001b[0m 9.29    \u001b[0m |\n",
      "| \u001b[0m 43      \u001b[0m | \u001b[0m 0.7666  \u001b[0m | \u001b[0m 0.9188  \u001b[0m | \u001b[0m 9.457   \u001b[0m | \u001b[0m 0.6033  \u001b[0m | \u001b[0m 5.394   \u001b[0m | \u001b[0m 9.904   \u001b[0m |\n",
      "| \u001b[0m 44      \u001b[0m | \u001b[0m 0.7677  \u001b[0m | \u001b[0m 0.6036  \u001b[0m | \u001b[0m 8.716   \u001b[0m | \u001b[0m 0.621   \u001b[0m | \u001b[0m 3.912   \u001b[0m | \u001b[0m 4.986   \u001b[0m |\n",
      "| \u001b[0m 45      \u001b[0m | \u001b[0m 0.7681  \u001b[0m | \u001b[0m 0.6114  \u001b[0m | \u001b[0m 5.234   \u001b[0m | \u001b[0m 0.6311  \u001b[0m | \u001b[0m 6.585   \u001b[0m | \u001b[0m 9.724   \u001b[0m |\n",
      "| \u001b[0m 46      \u001b[0m | \u001b[0m 0.7499  \u001b[0m | \u001b[0m 0.688   \u001b[0m | \u001b[0m 5.035   \u001b[0m | \u001b[0m 0.7128  \u001b[0m | \u001b[0m 3.682   \u001b[0m | \u001b[0m 2.018   \u001b[0m |\n",
      "| \u001b[0m 47      \u001b[0m | \u001b[0m 0.7517  \u001b[0m | \u001b[0m 0.6149  \u001b[0m | \u001b[0m 5.048   \u001b[0m | \u001b[0m 0.9693  \u001b[0m | \u001b[0m 2.925   \u001b[0m | \u001b[0m 8.848   \u001b[0m |\n",
      "| \u001b[0m 48      \u001b[0m | \u001b[0m 0.7657  \u001b[0m | \u001b[0m 0.6031  \u001b[0m | \u001b[0m 5.115   \u001b[0m | \u001b[0m 0.6968  \u001b[0m | \u001b[0m 7.946   \u001b[0m | \u001b[0m 6.365   \u001b[0m |\n",
      "| \u001b[0m 49      \u001b[0m | \u001b[0m 0.7543  \u001b[0m | \u001b[0m 0.6292  \u001b[0m | \u001b[0m 9.228   \u001b[0m | \u001b[0m 0.6043  \u001b[0m | \u001b[0m 2.147   \u001b[0m | \u001b[0m 4.735   \u001b[0m |\n",
      "| \u001b[0m 50      \u001b[0m | \u001b[0m 0.7653  \u001b[0m | \u001b[0m 0.62    \u001b[0m | \u001b[0m 5.322   \u001b[0m | \u001b[0m 0.6157  \u001b[0m | \u001b[0m 3.917   \u001b[0m | \u001b[0m 8.265   \u001b[0m |\n",
      "| \u001b[0m 51      \u001b[0m | \u001b[0m 0.7718  \u001b[0m | \u001b[0m 0.6015  \u001b[0m | \u001b[0m 5.141   \u001b[0m | \u001b[0m 0.624   \u001b[0m | \u001b[0m 6.552   \u001b[0m | \u001b[0m 7.266   \u001b[0m |\n",
      "| \u001b[0m 52      \u001b[0m | \u001b[0m 0.7509  \u001b[0m | \u001b[0m 0.6318  \u001b[0m | \u001b[0m 5.032   \u001b[0m | \u001b[0m 0.9336  \u001b[0m | \u001b[0m 7.292   \u001b[0m | \u001b[0m 7.138   \u001b[0m |\n",
      "| \u001b[0m 53      \u001b[0m | \u001b[0m 0.7614  \u001b[0m | \u001b[0m 0.6064  \u001b[0m | \u001b[0m 9.671   \u001b[0m | \u001b[0m 0.6495  \u001b[0m | \u001b[0m 5.346   \u001b[0m | \u001b[0m 7.959   \u001b[0m |\n",
      "| \u001b[0m 54      \u001b[0m | \u001b[0m 0.7651  \u001b[0m | \u001b[0m 0.6242  \u001b[0m | \u001b[0m 8.696   \u001b[0m | \u001b[0m 0.6057  \u001b[0m | \u001b[0m 6.189   \u001b[0m | \u001b[0m 9.866   \u001b[0m |\n",
      "| \u001b[0m 55      \u001b[0m | \u001b[0m 0.7633  \u001b[0m | \u001b[0m 0.6386  \u001b[0m | \u001b[0m 5.037   \u001b[0m | \u001b[0m 0.6354  \u001b[0m | \u001b[0m 6.419   \u001b[0m | \u001b[0m 6.562   \u001b[0m |\n",
      "| \u001b[0m 56      \u001b[0m | \u001b[0m 0.749   \u001b[0m | \u001b[0m 0.7986  \u001b[0m | \u001b[0m 5.132   \u001b[0m | \u001b[0m 0.6458  \u001b[0m | \u001b[0m 8.0     \u001b[0m | \u001b[0m 2.334   \u001b[0m |\n",
      "| \u001b[0m 57      \u001b[0m | \u001b[0m 0.7557  \u001b[0m | \u001b[0m 0.9496  \u001b[0m | \u001b[0m 6.999   \u001b[0m | \u001b[0m 0.6115  \u001b[0m | \u001b[0m 2.004   \u001b[0m | \u001b[0m 4.755   \u001b[0m |\n",
      "| \u001b[0m 58      \u001b[0m | \u001b[0m 0.7494  \u001b[0m | \u001b[0m 0.6201  \u001b[0m | \u001b[0m 8.911   \u001b[0m | \u001b[0m 0.6467  \u001b[0m | \u001b[0m 3.841   \u001b[0m | \u001b[0m 3.47    \u001b[0m |\n",
      "| \u001b[0m 59      \u001b[0m | \u001b[0m 0.7602  \u001b[0m | \u001b[0m 0.6912  \u001b[0m | \u001b[0m 7.486   \u001b[0m | \u001b[0m 0.6025  \u001b[0m | \u001b[0m 2.009   \u001b[0m | \u001b[0m 2.142   \u001b[0m |\n",
      "| \u001b[0m 60      \u001b[0m | \u001b[0m 0.7668  \u001b[0m | \u001b[0m 0.6124  \u001b[0m | \u001b[0m 5.286   \u001b[0m | \u001b[0m 0.6106  \u001b[0m | \u001b[0m 6.222   \u001b[0m | \u001b[0m 8.267   \u001b[0m |\n",
      "=====================================================================================\n"
     ]
    }
   ],
   "source": [
    "from bayes_opt import BayesianOptimization\n",
    "\n",
    "\n",
    "train_data = lgb.Dataset(data=X_train, label=y_train, weight=10**y_train)\n",
    "test_data = lgb.Dataset(data=X_test, label=y_test)\n",
    "\n",
    "def lgb_evaluate(num_leaves, feature_fraction, bagging_fraction, bagging_freq, max_depth):\n",
    "    \n",
    "    params = {\n",
    "    'application': 'binary',\n",
    "    'objective': 'binary',\n",
    "    'metric': 'binary_logloss',\n",
    "    'is_unbalance': 'true',\n",
    "    'boosting': 'gbdt',\n",
    "    'num_leaves': int(num_leaves),\n",
    "    'feature_fraction': feature_fraction,\n",
    "    'bagging_fraction': bagging_fraction,\n",
    "    'bagging_freq': int(bagging_freq),\n",
    "    'is_unbalance': 'true',\n",
    "    'learning_rate': 0.001,\n",
    "    'max_depth': int(max_depth)\n",
    "    }\n",
    "    \n",
    "  \n",
    "    cv_result = lgb.cv(\n",
    "            params,\n",
    "            train_data,\n",
    "            num_boost_round=150,\n",
    "            nfold=5,\n",
    "            metrics='auc',\n",
    "            early_stopping_rounds=30,\n",
    "            )\n",
    "    \n",
    "    # Bayesian optimization only knows how to maximize, not minimize, so return the negative RMSE\n",
    "\n",
    "    return np.array(cv_result['auc-mean']).max()\n",
    "\n",
    "\n",
    "# Parameters for optimization\n",
    "\n",
    "params = {\n",
    "    'num_leaves': (2, 10),\n",
    "    'feature_fraction': (0.6, 1.0),\n",
    "    'bagging_fraction': (0.6, 1.0),\n",
    "    'bagging_freq': (5, 10),\n",
    "    \"max_depth\": (2, 8),\n",
    "}\n",
    "\n",
    "xgb_bo = BayesianOptimization(lgb_evaluate, params)\n",
    "# Use the expected improvement acquisition function to handle negative numbers\n",
    "# Optimally needs quite a few more initiation points and number of iterations\n",
    "xgb_bo.maximize(init_points=10, n_iter=50, acq='ei')"
   ]
  },
  {
   "cell_type": "code",
   "execution_count": 347,
   "metadata": {},
   "outputs": [
    {
     "data": {
      "text/plain": [
       "{'target': 0.7723772321428571,\n",
       " 'params': {'bagging_fraction': 0.6,\n",
       "  'bagging_freq': 5.0,\n",
       "  'feature_fraction': 0.6,\n",
       "  'max_depth': 5.584379841141617,\n",
       "  'num_leaves': 8.214311114230881}}"
      ]
     },
     "execution_count": 347,
     "metadata": {},
     "output_type": "execute_result"
    }
   ],
   "source": [
    "xgb_bo.max\n"
   ]
  },
  {
   "cell_type": "code",
   "execution_count": 348,
   "metadata": {},
   "outputs": [],
   "source": [
    "p = xgb_bo.max['params']"
   ]
  },
  {
   "cell_type": "code",
   "execution_count": 349,
   "metadata": {},
   "outputs": [
    {
     "name": "stdout",
     "output_type": "stream",
     "text": [
      "{'application': 'binary', 'objective': 'binary', 'metric': 'binary_logloss', 'is_unbalance': 'true', 'boosting': 'gbdt', 'num_leaves': 8, 'feature_fraction': 0.6, 'bagging_fraction': 0.6, 'bagging_freq': 5, 'learning_rate': 0.001, 'max_depth': 5}\n"
     ]
    }
   ],
   "source": [
    "params = {\n",
    "'application': 'binary',\n",
    "'objective': 'binary',\n",
    "'metric': 'binary_logloss',\n",
    "'is_unbalance': 'true',\n",
    "'boosting': 'gbdt',\n",
    "'num_leaves': int(p['num_leaves']),\n",
    "'feature_fraction': p['feature_fraction'],\n",
    "'bagging_fraction': p['bagging_fraction'],\n",
    "'bagging_freq': int(p['bagging_freq']),\n",
    "'is_unbalance': 'true',\n",
    "'learning_rate': 0.001,\n",
    "'max_depth': int(p['max_depth'])\n",
    "}\n",
    "print(params)"
   ]
  },
  {
   "cell_type": "code",
   "execution_count": 411,
   "metadata": {},
   "outputs": [],
   "source": [
    "optimize_model = lgb.train(\n",
    "                params,\n",
    "                train_data,\n",
    "                verbose_eval=10,\n",
    "                )\n"
   ]
  },
  {
   "cell_type": "code",
   "execution_count": 351,
   "metadata": {},
   "outputs": [
    {
     "name": "stdout",
     "output_type": "stream",
     "text": [
      "roc auc lightgbm :  0.7746428571428571\n"
     ]
    }
   ],
   "source": [
    "optim_pred = optimize_model.predict(X_test)\n",
    "\n",
    "print('roc auc lightgbm : ', get_auc_score(y_test, optim_pred))\n",
    "\n"
   ]
  },
  {
   "cell_type": "code",
   "execution_count": 352,
   "metadata": {},
   "outputs": [
    {
     "name": "stdout",
     "output_type": "stream",
     "text": [
      " \n"
     ]
    },
    {
     "data": {
      "image/png": "[encoded data removed]",
      "text/plain": [
       "<Figure size 432x288 with 2 Axes>"
      ]
     },
     "metadata": {
      "needs_background": "light"
     },
     "output_type": "display_data"
    }
   ],
   "source": [
    "\n",
    "threshold = find_optimal_cutoff(y_test, optim_pred)\n",
    "pred_opt = (pred > threshold).astype(int) # Find prediction to the dataframe applying threshold\n",
    "\n",
    "plot_confusion_matrix(y_test, pred_opt, classes=['good loan', 'defaulting'])"
   ]
  },
  {
   "cell_type": "code",
   "execution_count": 353,
   "metadata": {},
   "outputs": [
    {
     "data": {
      "text/plain": [
       "0.665"
      ]
     },
     "execution_count": 353,
     "metadata": {},
     "output_type": "execute_result"
    }
   ],
   "source": [
    "get_accuracy_score(y_test, pred_opt)"
   ]
  },
  {
   "cell_type": "code",
   "execution_count": 355,
   "metadata": {},
   "outputs": [
    {
     "name": "stdout",
     "output_type": "stream",
     "text": [
      "Logistic: f1=0.584 auc=0.548\n"
     ]
    },
    {
     "data": {
      "text/plain": [
       "[<matplotlib.lines.Line2D at 0x1348dc438>]"
      ]
     },
     "execution_count": 355,
     "metadata": {},
     "output_type": "execute_result"
    },
    {
     "data": {
      "text/plain": [
       "[<matplotlib.lines.Line2D at 0x135ec1fd0>]"
      ]
     },
     "execution_count": 355,
     "metadata": {},
     "output_type": "execute_result"
    },
    {
     "data": {
      "text/plain": [
       "Text(0.5, 0, 'Recall')"
      ]
     },
     "execution_count": 355,
     "metadata": {},
     "output_type": "execute_result"
    },
    {
     "data": {
      "text/plain": [
       "Text(0, 0.5, 'Precision')"
      ]
     },
     "execution_count": 355,
     "metadata": {},
     "output_type": "execute_result"
    },
    {
     "data": {
      "text/plain": [
       "<matplotlib.legend.Legend at 0x1348dc6d8>"
      ]
     },
     "execution_count": 355,
     "metadata": {},
     "output_type": "execute_result"
    },
    {
     "data": {
      "image/png": "[encoded data removed]",
      "text/plain": [
       "<Figure size 432x288 with 1 Axes>"
      ]
     },
     "metadata": {
      "needs_background": "light"
     },
     "output_type": "display_data"
    }
   ],
   "source": [
    "from sklearn.datasets import make_classification\n",
    "from sklearn.linear_model import LogisticRegression\n",
    "from sklearn.model_selection import train_test_split\n",
    "from sklearn.metrics import precision_recall_curve\n",
    "from sklearn.metrics import f1_score\n",
    "from sklearn.metrics import auc\n",
    "from matplotlib import pyplot\n",
    "\n",
    "\n",
    "lr_precision, lr_recall, _ = precision_recall_curve(y_test, optim_pred)\n",
    "\n",
    "lr_f1, lr_auc = f1_score(y_test, pred_opt), auc(lr_recall, lr_precision)\n",
    "# summarize scores\n",
    "print('Logistic: f1=%.3f auc=%.3f' % (lr_f1, lr_auc))\n",
    "# plot the precision-recall curves\n",
    "no_skill = len(y_test[y_test==1]) / len(y_test)\n",
    "plt.plot([0, 1], [no_skill, no_skill], linestyle='--', label='No Skill')\n",
    "plt.plot(lr_recall, lr_precision, marker='.', label='Lightgbm')\n",
    "# axis labels\n",
    "pyplot.xlabel('Recall')\n",
    "pyplot.ylabel('Precision')\n",
    "# show the legend\n",
    "pyplot.legend()\n",
    "# show the plot\n",
    "pyplot.show()"
   ]
  },
  {
   "cell_type": "code",
   "execution_count": 356,
   "metadata": {},
   "outputs": [
    {
     "data": {
      "text/plain": [
       "<matplotlib.axes._subplots.AxesSubplot at 0x13864cbe0>"
      ]
     },
     "execution_count": 356,
     "metadata": {},
     "output_type": "execute_result"
    },
    {
     "data": {
      "image/png": "[encoded data removed]",
      "text/plain": [
       "<Figure size 432x288 with 1 Axes>"
      ]
     },
     "metadata": {
      "needs_background": "light"
     },
     "output_type": "display_data"
    }
   ],
   "source": [
    "lgb.plot_importance(optimize_model, max_num_features=21, importance_type='split')"
   ]
  },
  {
   "cell_type": "markdown",
   "metadata": {},
   "source": [
    "# Conclusions and Next Steps\n",
    "Summarize findings here"
   ]
  },
  {
   "cell_type": "code",
   "execution_count": 357,
   "metadata": {},
   "outputs": [],
   "source": [
    "import datetime"
   ]
  },
  {
   "cell_type": "code",
   "execution_count": 426,
   "metadata": {},
   "outputs": [
    {
     "name": "stdout",
     "output_type": "stream",
     "text": [
      "2020_05_05_22_22_09\n"
     ]
    }
   ],
   "source": [
    "import time\n",
    "timestr = time.strftime(\"%Y_%m_%d_%H_%M_%S\")\n",
    "print (timestr)"
   ]
  },
  {
   "cell_type": "code",
   "execution_count": 370,
   "metadata": {},
   "outputs": [],
   "source": [
    "tab = [\n",
    "    'preprocessing_target_pipeline_output_v0.0.1-20200505164451-.pkl',\n",
    "    'preprocessing_target_pipeline_output_v0.0.1-20200505164406-.pkl'\n",
    "    \n",
    "]"
   ]
  },
  {
   "cell_type": "code",
   "execution_count": 377,
   "metadata": {},
   "outputs": [
    {
     "data": {
      "text/plain": [
       "'20200505164451'"
      ]
     },
     "execution_count": 377,
     "metadata": {},
     "output_type": "execute_result"
    }
   ],
   "source": [
    "max([e.split('-')[1] for e in tab])"
   ]
  },
  {
   "cell_type": "code",
   "execution_count": 427,
   "metadata": {},
   "outputs": [
    {
     "name": "stdout",
     "output_type": "stream",
     "text": [
      "timestamp = 1588710173.361063\n"
     ]
    }
   ],
   "source": [
    "\n",
    "from datetime import datetime\n",
    "\n",
    "# current date and time\n",
    "now = datetime.now()\n",
    "\n",
    "timestamp = datetime.timestamp(now)\n",
    "print(\"timestamp =\", timestamp)"
   ]
  },
  {
   "cell_type": "code",
   "execution_count": 430,
   "metadata": {},
   "outputs": [
    {
     "name": "stdout",
     "output_type": "stream",
     "text": [
      "timestamp = 1588710236.62522\n"
     ]
    }
   ],
   "source": [
    "\n",
    "from datetime import datetime\n",
    "\n",
    "# current date and time\n",
    "now = datetime.now()\n",
    "\n",
    "timestamp = datetime.timestamp(now)\n",
    "print(\"timestamp =\", timestamp)"
   ]
  },
  {
   "cell_type": "code",
   "execution_count": 431,
   "metadata": {},
   "outputs": [
    {
     "name": "stdout",
     "output_type": "stream",
     "text": [
      "dt_object = 2020-05-05 22:23:56.625220\n",
      "type(dt_object) = <class 'datetime.datetime'>\n"
     ]
    }
   ],
   "source": [
    "\n",
    "from datetime import datetime\n",
    "\n",
    "\n",
    "dt_object = datetime.fromtimestamp(timestamp)\n",
    "\n",
    "print(\"dt_object =\", dt_object)\n",
    "print(\"type(dt_object) =\", type(dt_object))"
   ]
  },
  {
   "cell_type": "code",
   "execution_count": null,
   "metadata": {},
   "outputs": [],
   "source": []
  },
  {
   "cell_type": "code",
   "execution_count": null,
   "metadata": {},
   "outputs": [],
   "source": []
  }
 ],
 "metadata": {
  "kernelspec": {
   "display_name": "Python 3",
   "language": "python",
   "name": "python3"
  },
  "language_info": {
   "codemirror_mode": {
    "name": "ipython",
    "version": 3
   },
   "file_extension": ".py",
   "mimetype": "text/x-python",
   "name": "python",
   "nbconvert_exporter": "python",
   "pygments_lexer": "ipython3",
   "version": "3.7.3"
  },
  "toc": {
   "base_numbering": 1,
   "nav_menu": {},
   "number_sections": true,
   "sideBar": true,
   "skip_h1_title": false,
   "title_cell": "Table of Contents",
   "title_sidebar": "Contents",
   "toc_cell": false,
   "toc_position": {},
   "toc_section_display": true,
   "toc_window_display": false
  },
  "varInspector": {
   "cols": {
    "lenName": 16,
    "lenType": 16,
    "lenVar": 40
   },
   "kernels_config": {
    "python": {
     "delete_cmd_postfix": "",
     "delete_cmd_prefix": "del ",
     "library": "var_list.py",
     "varRefreshCmd": "print(var_dic_list())"
    },
    "r": {
     "delete_cmd_postfix": ") ",
     "delete_cmd_prefix": "rm(",
     "library": "var_list.r",
     "varRefreshCmd": "cat(var_dic_list()) "
    }
   },
   "types_to_exclude": [
    "module",
    "function",
    "builtin_function_or_method",
    "instance",
    "_Feature"
   ],
   "window_display": false
  }
 },
 "nbformat": 4,
 "nbformat_minor": 4
}
